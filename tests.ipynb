{
 "cells": [
  {
   "cell_type": "code",
   "execution_count": null,
   "metadata": {
    "collapsed": true
   },
   "outputs": [],
   "source": [
    "# Connect Webdriver\n",
    "from selenium import webdriver\n",
    "from selenium.webdriver.common.keys import Keys\n",
    "from selenium.common.exceptions import [TheNameOfTheExceptionClass]\n",
    "# driver_firefox = webdriver.Firefox\n",
    "# driver_FirefoxProfile = webdriver.FirefoxProfile\n",
    "# driver_Chrome= webdriver.Chrome\n",
    "# driver_ChromeOptions= webdriver.ChromeOptions\n",
    "# driver_Ie= webdriver.Ie\n",
    "# driver_Opera= webdriver.Opera\n",
    "# driver_PhantomJS= webdriver.PhantomJS\n",
    "# remote= webdriver.Remote\n",
    "# desired_capabilities= webdriver.DesiredCapabilities\n",
    "# action_chains= webdriver.ActionChains\n",
    "# touch_actions= webdriver.TouchActions\n",
    "# proxy = webdriver.Proxy\n"
   ]
  }
 ],
 "metadata": {
  "kernelspec": {
   "display_name": "Python 3",
   "language": "python",
   "name": "python3"
  },
  "language_info": {
   "codemirror_mode": {
    "name": "ipython",
    "version": 2
   },
   "file_extension": ".py",
   "mimetype": "text/x-python",
   "name": "python",
   "nbconvert_exporter": "python",
   "pygments_lexer": "ipython2",
   "version": "2.7.6"
  },
  "pycharm": {
   "stem_cell": {
    "cell_type": "raw",
    "source": [],
    "metadata": {
     "collapsed": false
    }
   }
  }
 },
 "nbformat": 4,
 "nbformat_minor": 0
}